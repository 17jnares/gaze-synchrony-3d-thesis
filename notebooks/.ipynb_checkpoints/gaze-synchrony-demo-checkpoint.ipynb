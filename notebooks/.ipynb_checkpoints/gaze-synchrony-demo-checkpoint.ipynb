{
 "cells": [
  {
   "cell_type": "markdown",
   "id": "50d5ca86-ec3a-4cbb-a76b-b9e834c2af7d",
   "metadata": {},
   "source": [
    "# Gaze Synchrony — End-to-End Demo\n",
    "\n",
    "This notebook walks through the full pipeline:\n",
    "\n",
    "```\n",
    " data/raw/demo/participant_*/{imu.csv, gaze.csv, world_timestamps.csv}\n",
    "                 │\n",
    "                 ▼  (src/preprocess.py)\n",
    " data/processed/demo/participant_*/{imu_50Hz.csv, gaze_50Hz.csv, video_timestamps.csv}\n",
    "                 │\n",
    "                 ▼  (src/positioning.py)\n",
    " data/processed/demo/participant_*/eye_in_world.csv\n",
    "                 │\n",
    "                 ▼  (src/synchrony.py)\n",
    " data/processed/demo/{pairwise_sync, indiv_to_group_sync}/{5s,30s}/*.csv\n",
    " ```\n",
    "\n",
    " **Tip:** Run this from the **repo root** so relative paths work."
   ]
  },
  {
   "cell_type": "code",
   "execution_count": 23,
   "id": "c29dc700-64ee-4662-b9d5-d1aa4a14810c",
   "metadata": {},
   "outputs": [
    {
     "name": "stdout",
     "output_type": "stream",
     "text": [
      "/Users/jnares/Desktop/Important Docs/Coding Portfolio/gaze-synchrony-3d-thesis/src\n",
      "Repo root: /Users/jnares/Desktop/Important Docs/Coding Portfolio/gaze-synchrony-3d-thesis\n",
      "Scripts exist: True False True\n",
      "Raw demo dir: True Processed demo dir: True\n"
     ]
    }
   ],
   "source": [
    "from pathlib import Path\n",
    "import sys, subprocess\n",
    "import pandas as pd\n",
    "import numpy as np\n",
    "\n",
    "REPO_ROOT = Path(\".\").resolve().parents[0]\n",
    "SRC = REPO_ROOT / \"src\"\n",
    "print(SRC)\n",
    "DATA_RAW = REPO_ROOT / \"data\" / \"raw\" / \"demo\"\n",
    "DATA_PROC = REPO_ROOT / \"data\" / \"processed\" / \"demo\"\n",
    "\n",
    "print(\"Repo root:\", REPO_ROOT)\n",
    "print(\"Scripts exist:\", (SRC / \"preprocess.py\").exists(), (SRC / \"positioning-3d.py\").exists(), (SRC / \"synchrony.py\").exists())\n",
    "print(\"Raw demo dir:\", DATA_RAW.exists(), \"Processed demo dir:\", DATA_PROC.exists())\n",
    "\n",
    "def run_script(name, *args):\n",
    "    \"\"\"Run a Python script from src/ with optional CLI args.\"\"\"\n",
    "    cmd = [sys.executable, str(SRC / name), *map(str, args)]\n",
    "    print(\"→ Running:\", \" \".join(cmd))\n",
    "    res = subprocess.run(cmd, cwd=REPO_ROOT)\n",
    "    if res.returncode != 0:\n",
    "        raise RuntimeError(f\"{name} failed with code {res.returncode}\")"
   ]
  },
  {
   "cell_type": "markdown",
   "id": "f00f5bd2-121f-4520-9db3-b89e7ba29e2b",
   "metadata": {},
   "source": [
    "## 1) Preprocess (resample to 50 Hz & align starts)\n",
    "Reads each `participant_*` in `data/raw/demo/` and writes `imu_50Hz.csv`, `gaze_50Hz.csv`, `video_timestamps.csv`\n",
    "to the corresponding folder in `data/processed/demo/participant_*`."
   ]
  },
  {
   "cell_type": "code",
   "execution_count": null,
   "id": "6b81eb33-353d-4bd2-ab00-c765c3bb7542",
   "metadata": {},
   "outputs": [],
   "source": [
    "run_script(\"preprocess.py\")"
   ]
  },
  {
   "cell_type": "markdown",
   "id": "b5d3ed09-746a-400a-9720-f19023cfd639",
   "metadata": {},
   "source": [
    "## 2) 3D Positioning\n",
    "Uses the 50 Hz data + `data/raw/layout/Stage_Layout_Coordinates.csv` to compute `eye_in_world.csv` per participant."
   ]
  },
  {
   "cell_type": "code",
   "execution_count": null,
   "id": "85454742-6b3e-4ba7-a34f-a3be2b48ed95",
   "metadata": {},
   "outputs": [],
   "source": [
    "run_script(\"positioning-3d.py\", \"--export-heading\")"
   ]
  },
  {
   "cell_type": "markdown",
   "id": "ee463a81-cc93-42bf-b2aa-adc9020f4761",
   "metadata": {},
   "source": [
    "## 3) Synchrony (Pairwise & Individual → Group)\n",
    "Computes non-overlapping **5s** and **30s** window correlations and writes:\n",
    "\n",
    " - `data/processed/demo/pairwise_sync/{5s,30s}/pairwise_group_sync.csv`\n",
    " - `data/processed/demo/indiv_to_group_sync/{5s,30s}/indiv_vs_group_sync.csv`"
   ]
  },
  {
   "cell_type": "code",
   "execution_count": null,
   "id": "6a4480bb-eb41-48ec-9ab1-486146cc51f1",
   "metadata": {},
   "outputs": [],
   "source": [
    "run_script(\"synchrony.py\")"
   ]
  },
  {
   "cell_type": "markdown",
   "id": "8234ad3f-27f9-49db-a3d5-4d5de3fa6577",
   "metadata": {},
   "source": [
    "## 4) Quick peek at participants and outputs"
   ]
  },
  {
   "cell_type": "code",
   "execution_count": null,
   "id": "5f1a3c82-0417-4896-b87a-3bdfbb7bbe1d",
   "metadata": {},
   "outputs": [],
   "source": [
    "parts = [d for d in DATA_PROC.iterdir() if d.is_dir() and d.name.lower().startswith(\"participant_\")]\n",
    "print(\"Participants:\", [p.name for p in parts])"
   ]
  },
  {
   "cell_type": "markdown",
   "id": "5b025634-8b11-4080-8034-bd990073922e",
   "metadata": {},
   "source": [
    "## 5) Visualize 3D Trajectory (one participant)\n",
    "Simple scatter plot of `eye_in_world.csv`. Pick any `participant_*`."
   ]
  },
  {
   "cell_type": "code",
   "execution_count": null,
   "id": "93e7557f-0179-454d-8f46-1a374b13cc3d",
   "metadata": {},
   "outputs": [],
   "source": [
    "import matplotlib.pyplot as plt\n",
    "from mpl_toolkits.mplot3d import Axes3D  # noqa: F401\n",
    "\n",
    "assert parts, \"No processed participants found.\"\n",
    "p0 = parts[0]\n",
    "df_eye = pd.read_csv(p0 / \"eye_in_world.csv\")\n",
    "\n",
    "fig = plt.figure(figsize=(7, 5))\n",
    "ax = fig.add_subplot(111, projection=\"3d\")\n",
    "ax.scatter(df_eye[\"x\"], df_eye[\"y\"], df_eye[\"z\"], s=1)\n",
    "ax.set_xlabel(\"x (cm)\")\n",
    "ax.set_ylabel(\"y (cm)\")\n",
    "ax.set_zlabel(\"z (cm)\")\n",
    "ax.set_title(f\"3D Gaze Trajectory — {p0.name}\")\n",
    "plt.tight_layout()\n",
    "plt.show()"
   ]
  },
  {
   "cell_type": "markdown",
   "id": "cd88be13-1093-41f3-9e58-045ef042de90",
   "metadata": {},
   "source": [
    "## 6) Plot Pairwise Synchrony (1s & 5s)\n",
    "We plot the **group average** and overlay all pair curves for context."
   ]
  },
  {
   "cell_type": "code",
   "execution_count": null,
   "id": "32b03098-aa5d-445d-8536-7a8d17dec146",
   "metadata": {},
   "outputs": [],
   "source": [
    "def plot_pairwise(window=\"1s\"):\n",
    "    csv_path = DATA_PROC / \"pairwise_sync\" / window / \"pairwise_group_sync.csv\"\n",
    "    dfp = pd.read_csv(csv_path)\n",
    "    time = dfp[\"time_s\"]\n",
    "\n",
    "    # Group average\n",
    "    plt.figure(figsize=(7, 4))\n",
    "    plt.plot(time, dfp[\"GroupAverage\"])\n",
    "    plt.xlabel(\"Time (s)\")\n",
    "    plt.ylabel(\"r (group avg)\")\n",
    "    plt.title(f\"Pairwise Synchrony — Group Average ({window})\")\n",
    "    plt.tight_layout()\n",
    "    plt.show()\n",
    "\n",
    "    # All pairs\n",
    "    pair_cols = [c for c in dfp.columns if c.startswith(\"PairID_\")]\n",
    "    plt.figure(figsize=(7, 4))\n",
    "    for c in pair_cols:\n",
    "        plt.plot(time, dfp[c], alpha=0.75)\n",
    "    plt.xlabel(\"Time (s)\")\n",
    "    plt.ylabel(\"r (Fisher-z avg of x,y)\")\n",
    "    plt.title(f\"Pairwise Synchrony — All Pairs ({window})\")\n",
    "    plt.tight_layout()\n",
    "    plt.show()\n",
    "\n",
    "plot_pairwise(\"1s\")\n",
    "plot_pairwise(\"5s\")"
   ]
  },
  {
   "cell_type": "markdown",
   "id": "8aa81f12-bf7e-4312-a10b-09a2c24813d1",
   "metadata": {},
   "source": [
    "## 7) Plot Individual-to-Group Synchrony (1s & 5s)"
   ]
  },
  {
   "cell_type": "code",
   "execution_count": null,
   "id": "200d1135-bd05-4b72-9e13-1881bae879b6",
   "metadata": {},
   "outputs": [],
   "source": [
    "def plot_indiv(window=\"1s\"):\n",
    "    csv_path = DATA_PROC / \"indiv_to_group_sync\" / window / \"indiv_vs_group_sync.csv\"\n",
    "    dfi = pd.read_csv(csv_path)\n",
    "    time = dfi[\"time_s\"]\n",
    "    part_cols = [c for c in dfi.columns if c.startswith(\"PartID_\")]\n",
    "\n",
    "    plt.figure(figsize=(7, 4))\n",
    "    for c in part_cols:\n",
    "        plt.plot(time, dfi[c], alpha=0.85, label=c)\n",
    "    plt.xlabel(\"Time (s)\")\n",
    "    plt.ylabel(\"r (Fisher-z avg of x,y)\")\n",
    "    plt.title(f\"Indiv → Group Synchrony ({window})\")\n",
    "    # If legend is too big, comment it out:\n",
    "    plt.legend(loc=\"best\", ncol=2, fontsize=8)\n",
    "    plt.tight_layout()\n",
    "    plt.show()\n",
    "\n",
    "plot_indiv(\"1s\")\n",
    "plot_indiv(\"5s\")"
   ]
  },
  {
   "cell_type": "markdown",
   "id": "9e1c7c2b-fdb2-4b3a-b07f-dde7a96289e0",
   "metadata": {},
   "source": [
    "## 8) Inspect CSV heads\n",
    "Helpful to sanity-check outputs without opening extra files."
   ]
  },
  {
   "cell_type": "code",
   "execution_count": null,
   "id": "646a51f0-e720-4406-bed6-e2f7db0f9ab6",
   "metadata": {},
   "outputs": [],
   "source": [
    "def head(path: Path, n=8):\n",
    "    if path.exists():\n",
    "        display(pd.read_csv(path).head(n))\n",
    "    else:\n",
    "        print(\"Missing:\", path)\n",
    "\n",
    "head(p0 / \"eye_in_world.csv\")\n",
    "head(DATA_PROC / \"pairwise_sync\" / \"5s\" / \"pairwise_group_sync.csv\")\n",
    "head(DATA_PROC / \"indiv_to_group_sync\" / \"5s\" / \"indiv_vs_group_sync.csv\")"
   ]
  },
  {
   "cell_type": "markdown",
   "id": "2ea19d69-a5a7-4757-b230-1e11c32f8916",
   "metadata": {},
   "source": [
    "**Notes**\n",
    " - All windows are **non-overlapping** (for independence of samples statistical purposes).\n",
    " - Pairwise curve per window is the **Fisher-z average** of `(r_x, r_y)`.\n",
    " - GroupAverage is the mean of all pairwise `r_x` and `r_y` values per window."
   ]
  }
 ],
 "metadata": {
  "kernelspec": {
   "display_name": "Python 3 (ipykernel)",
   "language": "python",
   "name": "python3"
  },
  "language_info": {
   "codemirror_mode": {
    "name": "ipython",
    "version": 3
   },
   "file_extension": ".py",
   "mimetype": "text/x-python",
   "name": "python",
   "nbconvert_exporter": "python",
   "pygments_lexer": "ipython3",
   "version": "3.12.4"
  }
 },
 "nbformat": 4,
 "nbformat_minor": 5
}
